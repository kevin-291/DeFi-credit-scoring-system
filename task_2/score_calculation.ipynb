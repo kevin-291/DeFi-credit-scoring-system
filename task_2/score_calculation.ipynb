{
 "cells": [
  {
   "cell_type": "code",
   "execution_count": 1,
   "id": "5453917e",
   "metadata": {},
   "outputs": [],
   "source": [
    "import os\n",
    "import pandas as pd\n",
    "from datetime import datetime"
   ]
  },
  {
   "cell_type": "code",
   "execution_count": 2,
   "id": "65b6b30e",
   "metadata": {},
   "outputs": [],
   "source": [
    "# Read your combined CSV\n",
    "CSV_FILE = r'C:\\Users\\kevin\\Desktop\\VSCode\\Zeru\\task_2\\output\\wallet_txns_combined.csv'\n",
    "df = pd.read_csv(CSV_FILE)"
   ]
  },
  {
   "cell_type": "code",
   "execution_count": 3,
   "id": "384aa12b",
   "metadata": {},
   "outputs": [
    {
     "data": {
      "application/vnd.microsoft.datawrangler.viewer.v0+json": {
       "columns": [
        {
         "name": "index",
         "rawType": "int64",
         "type": "integer"
        },
        {
         "name": "wallet_id",
         "rawType": "object",
         "type": "string"
        },
        {
         "name": "action",
         "rawType": "object",
         "type": "string"
        },
        {
         "name": "timestamp",
         "rawType": "int64",
         "type": "integer"
        },
        {
         "name": "value",
         "rawType": "float64",
         "type": "float"
        },
        {
         "name": "gas",
         "rawType": "int64",
         "type": "integer"
        },
        {
         "name": "gasUsed",
         "rawType": "int64",
         "type": "integer"
        }
       ],
       "ref": "dbae1c29-bc3f-4917-bef0-7a2de447db2b",
       "rows": [
        [
         "0",
         "0x0039f22efb07a647557c7c5d17854cfd6d489ef3",
         "external",
         "1493254201",
         "0.2",
         "333333",
         "21000"
        ],
        [
         "1",
         "0x0039f22efb07a647557c7c5d17854cfd6d489ef3",
         "external",
         "1493254443",
         "0.007",
         "27961",
         "23301"
        ],
        [
         "2",
         "0x0039f22efb07a647557c7c5d17854cfd6d489ef3",
         "external",
         "1493254495",
         "0.007",
         "27961",
         "23301"
        ],
        [
         "3",
         "0x0039f22efb07a647557c7c5d17854cfd6d489ef3",
         "external",
         "1493254558",
         "0.0",
         "61078",
         "35898"
        ],
        [
         "4",
         "0x0039f22efb07a647557c7c5d17854cfd6d489ef3",
         "external",
         "1493490509",
         "0.02",
         "120763",
         "100636"
        ]
       ],
       "shape": {
        "columns": 6,
        "rows": 5
       }
      },
      "text/html": [
       "<div>\n",
       "<style scoped>\n",
       "    .dataframe tbody tr th:only-of-type {\n",
       "        vertical-align: middle;\n",
       "    }\n",
       "\n",
       "    .dataframe tbody tr th {\n",
       "        vertical-align: top;\n",
       "    }\n",
       "\n",
       "    .dataframe thead th {\n",
       "        text-align: right;\n",
       "    }\n",
       "</style>\n",
       "<table border=\"1\" class=\"dataframe\">\n",
       "  <thead>\n",
       "    <tr style=\"text-align: right;\">\n",
       "      <th></th>\n",
       "      <th>wallet_id</th>\n",
       "      <th>action</th>\n",
       "      <th>timestamp</th>\n",
       "      <th>value</th>\n",
       "      <th>gas</th>\n",
       "      <th>gasUsed</th>\n",
       "    </tr>\n",
       "  </thead>\n",
       "  <tbody>\n",
       "    <tr>\n",
       "      <th>0</th>\n",
       "      <td>0x0039f22efb07a647557c7c5d17854cfd6d489ef3</td>\n",
       "      <td>external</td>\n",
       "      <td>1493254201</td>\n",
       "      <td>0.200</td>\n",
       "      <td>333333</td>\n",
       "      <td>21000</td>\n",
       "    </tr>\n",
       "    <tr>\n",
       "      <th>1</th>\n",
       "      <td>0x0039f22efb07a647557c7c5d17854cfd6d489ef3</td>\n",
       "      <td>external</td>\n",
       "      <td>1493254443</td>\n",
       "      <td>0.007</td>\n",
       "      <td>27961</td>\n",
       "      <td>23301</td>\n",
       "    </tr>\n",
       "    <tr>\n",
       "      <th>2</th>\n",
       "      <td>0x0039f22efb07a647557c7c5d17854cfd6d489ef3</td>\n",
       "      <td>external</td>\n",
       "      <td>1493254495</td>\n",
       "      <td>0.007</td>\n",
       "      <td>27961</td>\n",
       "      <td>23301</td>\n",
       "    </tr>\n",
       "    <tr>\n",
       "      <th>3</th>\n",
       "      <td>0x0039f22efb07a647557c7c5d17854cfd6d489ef3</td>\n",
       "      <td>external</td>\n",
       "      <td>1493254558</td>\n",
       "      <td>0.000</td>\n",
       "      <td>61078</td>\n",
       "      <td>35898</td>\n",
       "    </tr>\n",
       "    <tr>\n",
       "      <th>4</th>\n",
       "      <td>0x0039f22efb07a647557c7c5d17854cfd6d489ef3</td>\n",
       "      <td>external</td>\n",
       "      <td>1493490509</td>\n",
       "      <td>0.020</td>\n",
       "      <td>120763</td>\n",
       "      <td>100636</td>\n",
       "    </tr>\n",
       "  </tbody>\n",
       "</table>\n",
       "</div>"
      ],
      "text/plain": [
       "                                    wallet_id    action   timestamp  value  \\\n",
       "0  0x0039f22efb07a647557c7c5d17854cfd6d489ef3  external  1493254201  0.200   \n",
       "1  0x0039f22efb07a647557c7c5d17854cfd6d489ef3  external  1493254443  0.007   \n",
       "2  0x0039f22efb07a647557c7c5d17854cfd6d489ef3  external  1493254495  0.007   \n",
       "3  0x0039f22efb07a647557c7c5d17854cfd6d489ef3  external  1493254558  0.000   \n",
       "4  0x0039f22efb07a647557c7c5d17854cfd6d489ef3  external  1493490509  0.020   \n",
       "\n",
       "      gas  gasUsed  \n",
       "0  333333    21000  \n",
       "1   27961    23301  \n",
       "2   27961    23301  \n",
       "3   61078    35898  \n",
       "4  120763   100636  "
      ]
     },
     "execution_count": 3,
     "metadata": {},
     "output_type": "execute_result"
    }
   ],
   "source": [
    "df.head()"
   ]
  },
  {
   "cell_type": "code",
   "execution_count": 4,
   "id": "de3e1b19",
   "metadata": {},
   "outputs": [
    {
     "data": {
      "application/vnd.microsoft.datawrangler.viewer.v0+json": {
       "columns": [
        {
         "name": "index",
         "rawType": "object",
         "type": "string"
        },
        {
         "name": "0",
         "rawType": "int64",
         "type": "integer"
        }
       ],
       "ref": "6c8b838b-4c0c-4d2a-bcfb-a4eb5c4b9894",
       "rows": [
        [
         "wallet_id",
         "0"
        ],
        [
         "action",
         "0"
        ],
        [
         "timestamp",
         "0"
        ],
        [
         "value",
         "0"
        ],
        [
         "gas",
         "0"
        ],
        [
         "gasUsed",
         "0"
        ]
       ],
       "shape": {
        "columns": 1,
        "rows": 6
       }
      },
      "text/plain": [
       "wallet_id    0\n",
       "action       0\n",
       "timestamp    0\n",
       "value        0\n",
       "gas          0\n",
       "gasUsed      0\n",
       "dtype: int64"
      ]
     },
     "execution_count": 4,
     "metadata": {},
     "output_type": "execute_result"
    }
   ],
   "source": [
    "df.isnull().sum()"
   ]
  },
  {
   "cell_type": "code",
   "execution_count": 5,
   "id": "122a5f20",
   "metadata": {},
   "outputs": [
    {
     "name": "stdout",
     "output_type": "stream",
     "text": [
      "<class 'pandas.core.frame.DataFrame'>\n",
      "RangeIndex: 7270 entries, 0 to 7269\n",
      "Data columns (total 6 columns):\n",
      " #   Column     Non-Null Count  Dtype  \n",
      "---  ------     --------------  -----  \n",
      " 0   wallet_id  7270 non-null   object \n",
      " 1   action     7270 non-null   object \n",
      " 2   timestamp  7270 non-null   int64  \n",
      " 3   value      7270 non-null   float64\n",
      " 4   gas        7270 non-null   int64  \n",
      " 5   gasUsed    7270 non-null   int64  \n",
      "dtypes: float64(1), int64(3), object(2)\n",
      "memory usage: 340.9+ KB\n"
     ]
    }
   ],
   "source": [
    "df.info()"
   ]
  },
  {
   "cell_type": "code",
   "execution_count": 6,
   "id": "c4ce45ea",
   "metadata": {},
   "outputs": [],
   "source": [
    "df['timestamp'] = pd.to_datetime(df['timestamp'], unit='s')"
   ]
  },
  {
   "cell_type": "code",
   "execution_count": 7,
   "id": "107931ab",
   "metadata": {},
   "outputs": [
    {
     "name": "stdout",
     "output_type": "stream",
     "text": [
      "<class 'pandas.core.frame.DataFrame'>\n",
      "RangeIndex: 7270 entries, 0 to 7269\n",
      "Data columns (total 6 columns):\n",
      " #   Column     Non-Null Count  Dtype         \n",
      "---  ------     --------------  -----         \n",
      " 0   wallet_id  7270 non-null   object        \n",
      " 1   action     7270 non-null   object        \n",
      " 2   timestamp  7270 non-null   datetime64[ns]\n",
      " 3   value      7270 non-null   float64       \n",
      " 4   gas        7270 non-null   int64         \n",
      " 5   gasUsed    7270 non-null   int64         \n",
      "dtypes: datetime64[ns](1), float64(1), int64(2), object(2)\n",
      "memory usage: 340.9+ KB\n"
     ]
    }
   ],
   "source": [
    "df.info()"
   ]
  },
  {
   "cell_type": "code",
   "execution_count": 8,
   "id": "3123e56a",
   "metadata": {},
   "outputs": [
    {
     "data": {
      "application/vnd.microsoft.datawrangler.viewer.v0+json": {
       "columns": [
        {
         "name": "index",
         "rawType": "object",
         "type": "string"
        },
        {
         "name": "count",
         "rawType": "object",
         "type": "unknown"
        },
        {
         "name": "mean",
         "rawType": "object",
         "type": "unknown"
        },
        {
         "name": "min",
         "rawType": "object",
         "type": "unknown"
        },
        {
         "name": "25%",
         "rawType": "object",
         "type": "unknown"
        },
        {
         "name": "50%",
         "rawType": "object",
         "type": "unknown"
        },
        {
         "name": "75%",
         "rawType": "object",
         "type": "unknown"
        },
        {
         "name": "max",
         "rawType": "object",
         "type": "unknown"
        },
        {
         "name": "std",
         "rawType": "object",
         "type": "unknown"
        }
       ],
       "ref": "e7e0ff8f-1b22-4745-a441-f6afbc2f43c8",
       "rows": [
        [
         "timestamp",
         "7270",
         "2020-10-24 20:58:15.913342464",
         "2017-04-27 00:50:01",
         "2019-12-26 07:39:16",
         "2020-11-10 05:01:43",
         "2021-06-26 06:05:39.500000",
         "2025-07-22 04:55:11",
         null
        ],
        [
         "value",
         "7270.0",
         "12.484272867742154",
         "0.0",
         "0.0",
         "0.0",
         "0.2",
         "4504.592127098324",
         "136.8038488802535"
        ],
        [
         "gas",
         "7270.0",
         "270729.62310866575",
         "2300.0",
         "21000.0",
         "88965.0",
         "260010.5",
         "11661875.0",
         "627060.0790265813"
        ],
        [
         "gasUsed",
         "7270.0",
         "176587.83356258596",
         "0.0",
         "21000.0",
         "49811.0",
         "164190.0",
         "7138144.0",
         "480577.4111548163"
        ]
       ],
       "shape": {
        "columns": 8,
        "rows": 4
       }
      },
      "text/html": [
       "<div>\n",
       "<style scoped>\n",
       "    .dataframe tbody tr th:only-of-type {\n",
       "        vertical-align: middle;\n",
       "    }\n",
       "\n",
       "    .dataframe tbody tr th {\n",
       "        vertical-align: top;\n",
       "    }\n",
       "\n",
       "    .dataframe thead th {\n",
       "        text-align: right;\n",
       "    }\n",
       "</style>\n",
       "<table border=\"1\" class=\"dataframe\">\n",
       "  <thead>\n",
       "    <tr style=\"text-align: right;\">\n",
       "      <th></th>\n",
       "      <th>count</th>\n",
       "      <th>mean</th>\n",
       "      <th>min</th>\n",
       "      <th>25%</th>\n",
       "      <th>50%</th>\n",
       "      <th>75%</th>\n",
       "      <th>max</th>\n",
       "      <th>std</th>\n",
       "    </tr>\n",
       "  </thead>\n",
       "  <tbody>\n",
       "    <tr>\n",
       "      <th>timestamp</th>\n",
       "      <td>7270</td>\n",
       "      <td>2020-10-24 20:58:15.913342464</td>\n",
       "      <td>2017-04-27 00:50:01</td>\n",
       "      <td>2019-12-26 07:39:16</td>\n",
       "      <td>2020-11-10 05:01:43</td>\n",
       "      <td>2021-06-26 06:05:39.500000</td>\n",
       "      <td>2025-07-22 04:55:11</td>\n",
       "      <td>NaN</td>\n",
       "    </tr>\n",
       "    <tr>\n",
       "      <th>value</th>\n",
       "      <td>7270.0</td>\n",
       "      <td>12.484273</td>\n",
       "      <td>0.0</td>\n",
       "      <td>0.0</td>\n",
       "      <td>0.0</td>\n",
       "      <td>0.2</td>\n",
       "      <td>4504.592127</td>\n",
       "      <td>136.803849</td>\n",
       "    </tr>\n",
       "    <tr>\n",
       "      <th>gas</th>\n",
       "      <td>7270.0</td>\n",
       "      <td>270729.623109</td>\n",
       "      <td>2300.0</td>\n",
       "      <td>21000.0</td>\n",
       "      <td>88965.0</td>\n",
       "      <td>260010.5</td>\n",
       "      <td>11661875.0</td>\n",
       "      <td>627060.079027</td>\n",
       "    </tr>\n",
       "    <tr>\n",
       "      <th>gasUsed</th>\n",
       "      <td>7270.0</td>\n",
       "      <td>176587.833563</td>\n",
       "      <td>0.0</td>\n",
       "      <td>21000.0</td>\n",
       "      <td>49811.0</td>\n",
       "      <td>164190.0</td>\n",
       "      <td>7138144.0</td>\n",
       "      <td>480577.411155</td>\n",
       "    </tr>\n",
       "  </tbody>\n",
       "</table>\n",
       "</div>"
      ],
      "text/plain": [
       "            count                           mean                  min  \\\n",
       "timestamp    7270  2020-10-24 20:58:15.913342464  2017-04-27 00:50:01   \n",
       "value      7270.0                      12.484273                  0.0   \n",
       "gas        7270.0                  270729.623109               2300.0   \n",
       "gasUsed    7270.0                  176587.833563                  0.0   \n",
       "\n",
       "                           25%                  50%  \\\n",
       "timestamp  2019-12-26 07:39:16  2020-11-10 05:01:43   \n",
       "value                      0.0                  0.0   \n",
       "gas                    21000.0              88965.0   \n",
       "gasUsed                21000.0              49811.0   \n",
       "\n",
       "                                  75%                  max            std  \n",
       "timestamp  2021-06-26 06:05:39.500000  2025-07-22 04:55:11            NaN  \n",
       "value                             0.2          4504.592127     136.803849  \n",
       "gas                          260010.5           11661875.0  627060.079027  \n",
       "gasUsed                      164190.0            7138144.0  480577.411155  "
      ]
     },
     "execution_count": 8,
     "metadata": {},
     "output_type": "execute_result"
    }
   ],
   "source": [
    "df.describe().T"
   ]
  },
  {
   "cell_type": "code",
   "execution_count": 9,
   "id": "01625738",
   "metadata": {},
   "outputs": [],
   "source": [
    "# Feature aggregation per wallet\n",
    "def compute_wallet_features(df_group):\n",
    "    feat = {}\n",
    "    feat['wallet_id'] = df_group.name\n",
    "    \n",
    "    feat['days_active'] = (df_group.timestamp.max() - df_group.timestamp.min()).days\n",
    "    feat['n_txs'] = len(df_group)\n",
    "    feat['n_external'] = (df_group['action'] == 'external').sum()\n",
    "    feat['n_internal'] = (df_group['action'] == 'internal').sum()\n",
    "\n",
    "    feat['total_value_eth'] = df_group['value'].sum()\n",
    "    feat['avg_gas'] = df_group['gas'].mean()\n",
    "    feat['total_gas_used'] = df_group['gasUsed'].sum()\n",
    "    feat['last_tx_days_ago'] = (datetime.utcnow() - df_group.timestamp.max()).days\n",
    "    \n",
    "    return feat"
   ]
  },
  {
   "cell_type": "code",
   "execution_count": 10,
   "id": "d43d9ed5",
   "metadata": {},
   "outputs": [
    {
     "name": "stderr",
     "output_type": "stream",
     "text": [
      "C:\\Users\\kevin\\AppData\\Local\\Temp\\ipykernel_20648\\476966291.py:14: DeprecationWarning: datetime.datetime.utcnow() is deprecated and scheduled for removal in a future version. Use timezone-aware objects to represent datetimes in UTC: datetime.datetime.now(datetime.UTC).\n",
      "  feat['last_tx_days_ago'] = (datetime.utcnow() - df_group.timestamp.max()).days\n"
     ]
    },
    {
     "data": {
      "application/vnd.microsoft.datawrangler.viewer.v0+json": {
       "columns": [
        {
         "name": "index",
         "rawType": "int64",
         "type": "integer"
        },
        {
         "name": "wallet_id",
         "rawType": "object",
         "type": "string"
        },
        {
         "name": "days_active",
         "rawType": "int64",
         "type": "integer"
        },
        {
         "name": "n_txs",
         "rawType": "int64",
         "type": "integer"
        },
        {
         "name": "n_external",
         "rawType": "int64",
         "type": "integer"
        },
        {
         "name": "n_internal",
         "rawType": "int64",
         "type": "integer"
        },
        {
         "name": "total_value_eth",
         "rawType": "float64",
         "type": "float"
        },
        {
         "name": "avg_gas",
         "rawType": "float64",
         "type": "float"
        },
        {
         "name": "total_gas_used",
         "rawType": "int64",
         "type": "integer"
        },
        {
         "name": "last_tx_days_ago",
         "rawType": "int64",
         "type": "integer"
        }
       ],
       "ref": "84db084e-776a-4800-b668-598f02e38aee",
       "rows": [
        [
         "0",
         "0x0039f22efb07a647557c7c5d17854cfd6d489ef3",
         "2513",
         "2246",
         "1946",
         "300",
         "14876.959377166579",
         "438803.196794301",
         "656379467",
         "498"
        ],
        [
         "1",
         "0x06b51c6882b27cb05e712185531c1f74996dd988",
         "0",
         "4",
         "4",
         "0",
         "0.02430185",
         "91256.0",
         "266363",
         "1743"
        ],
        [
         "2",
         "0x0795732aacc448030ef374374eaae57d2965c16c",
         "0",
         "3",
         "3",
         "0",
         "0.0186",
         "114674.66666666667",
         "248424",
         "1702"
        ],
        [
         "3",
         "0x0aaa79f1a86bc8136cd0d1ca0d51964f4e3766f9",
         "1879",
         "28",
         "24",
         "4",
         "270.3129814490397",
         "131456.10714285713",
         "2433893",
         "309"
        ],
        [
         "4",
         "0x0fe383e5abc200055a7f391f94a5f5d1f844b9ae",
         "63",
         "4",
         "4",
         "0",
         "0.026004690999999996",
         "91256.0",
         "266363",
         "1673"
        ]
       ],
       "shape": {
        "columns": 9,
        "rows": 5
       }
      },
      "text/html": [
       "<div>\n",
       "<style scoped>\n",
       "    .dataframe tbody tr th:only-of-type {\n",
       "        vertical-align: middle;\n",
       "    }\n",
       "\n",
       "    .dataframe tbody tr th {\n",
       "        vertical-align: top;\n",
       "    }\n",
       "\n",
       "    .dataframe thead th {\n",
       "        text-align: right;\n",
       "    }\n",
       "</style>\n",
       "<table border=\"1\" class=\"dataframe\">\n",
       "  <thead>\n",
       "    <tr style=\"text-align: right;\">\n",
       "      <th></th>\n",
       "      <th>wallet_id</th>\n",
       "      <th>days_active</th>\n",
       "      <th>n_txs</th>\n",
       "      <th>n_external</th>\n",
       "      <th>n_internal</th>\n",
       "      <th>total_value_eth</th>\n",
       "      <th>avg_gas</th>\n",
       "      <th>total_gas_used</th>\n",
       "      <th>last_tx_days_ago</th>\n",
       "    </tr>\n",
       "  </thead>\n",
       "  <tbody>\n",
       "    <tr>\n",
       "      <th>0</th>\n",
       "      <td>0x0039f22efb07a647557c7c5d17854cfd6d489ef3</td>\n",
       "      <td>2513</td>\n",
       "      <td>2246</td>\n",
       "      <td>1946</td>\n",
       "      <td>300</td>\n",
       "      <td>14876.959377</td>\n",
       "      <td>438803.196794</td>\n",
       "      <td>656379467</td>\n",
       "      <td>498</td>\n",
       "    </tr>\n",
       "    <tr>\n",
       "      <th>1</th>\n",
       "      <td>0x06b51c6882b27cb05e712185531c1f74996dd988</td>\n",
       "      <td>0</td>\n",
       "      <td>4</td>\n",
       "      <td>4</td>\n",
       "      <td>0</td>\n",
       "      <td>0.024302</td>\n",
       "      <td>91256.000000</td>\n",
       "      <td>266363</td>\n",
       "      <td>1743</td>\n",
       "    </tr>\n",
       "    <tr>\n",
       "      <th>2</th>\n",
       "      <td>0x0795732aacc448030ef374374eaae57d2965c16c</td>\n",
       "      <td>0</td>\n",
       "      <td>3</td>\n",
       "      <td>3</td>\n",
       "      <td>0</td>\n",
       "      <td>0.018600</td>\n",
       "      <td>114674.666667</td>\n",
       "      <td>248424</td>\n",
       "      <td>1702</td>\n",
       "    </tr>\n",
       "    <tr>\n",
       "      <th>3</th>\n",
       "      <td>0x0aaa79f1a86bc8136cd0d1ca0d51964f4e3766f9</td>\n",
       "      <td>1879</td>\n",
       "      <td>28</td>\n",
       "      <td>24</td>\n",
       "      <td>4</td>\n",
       "      <td>270.312981</td>\n",
       "      <td>131456.107143</td>\n",
       "      <td>2433893</td>\n",
       "      <td>309</td>\n",
       "    </tr>\n",
       "    <tr>\n",
       "      <th>4</th>\n",
       "      <td>0x0fe383e5abc200055a7f391f94a5f5d1f844b9ae</td>\n",
       "      <td>63</td>\n",
       "      <td>4</td>\n",
       "      <td>4</td>\n",
       "      <td>0</td>\n",
       "      <td>0.026005</td>\n",
       "      <td>91256.000000</td>\n",
       "      <td>266363</td>\n",
       "      <td>1673</td>\n",
       "    </tr>\n",
       "  </tbody>\n",
       "</table>\n",
       "</div>"
      ],
      "text/plain": [
       "                                    wallet_id  days_active  n_txs  n_external  \\\n",
       "0  0x0039f22efb07a647557c7c5d17854cfd6d489ef3         2513   2246        1946   \n",
       "1  0x06b51c6882b27cb05e712185531c1f74996dd988            0      4           4   \n",
       "2  0x0795732aacc448030ef374374eaae57d2965c16c            0      3           3   \n",
       "3  0x0aaa79f1a86bc8136cd0d1ca0d51964f4e3766f9         1879     28          24   \n",
       "4  0x0fe383e5abc200055a7f391f94a5f5d1f844b9ae           63      4           4   \n",
       "\n",
       "   n_internal  total_value_eth        avg_gas  total_gas_used  \\\n",
       "0         300     14876.959377  438803.196794       656379467   \n",
       "1           0         0.024302   91256.000000          266363   \n",
       "2           0         0.018600  114674.666667          248424   \n",
       "3           4       270.312981  131456.107143         2433893   \n",
       "4           0         0.026005   91256.000000          266363   \n",
       "\n",
       "   last_tx_days_ago  \n",
       "0               498  \n",
       "1              1743  \n",
       "2              1702  \n",
       "3               309  \n",
       "4              1673  "
      ]
     },
     "execution_count": 10,
     "metadata": {},
     "output_type": "execute_result"
    }
   ],
   "source": [
    "wallet_feats = df.groupby('wallet_id').apply(compute_wallet_features)\n",
    "wallet_feats = pd.DataFrame(wallet_feats.tolist())\n",
    "wallet_feats.head()"
   ]
  },
  {
   "cell_type": "code",
   "execution_count": 11,
   "id": "84fba355",
   "metadata": {},
   "outputs": [
    {
     "data": {
      "application/vnd.microsoft.datawrangler.viewer.v0+json": {
       "columns": [
        {
         "name": "index",
         "rawType": "object",
         "type": "string"
        },
        {
         "name": "count",
         "rawType": "float64",
         "type": "float"
        },
        {
         "name": "mean",
         "rawType": "float64",
         "type": "float"
        },
        {
         "name": "std",
         "rawType": "float64",
         "type": "float"
        },
        {
         "name": "min",
         "rawType": "float64",
         "type": "float"
        },
        {
         "name": "25%",
         "rawType": "float64",
         "type": "float"
        },
        {
         "name": "50%",
         "rawType": "float64",
         "type": "float"
        },
        {
         "name": "75%",
         "rawType": "float64",
         "type": "float"
        },
        {
         "name": "max",
         "rawType": "float64",
         "type": "float"
        }
       ],
       "ref": "77afbbda-2682-4893-bc31-53e00c6db8ed",
       "rows": [
        [
         "days_active",
         "103.0",
         "459.59223300970876",
         "720.5121739986486",
         "0.0",
         "0.0",
         "49.0",
         "663.0",
         "2862.0"
        ],
        [
         "n_txs",
         "103.0",
         "70.58252427184466",
         "245.94605355693812",
         "2.0",
         "4.0",
         "6.0",
         "23.5",
         "2246.0"
        ],
        [
         "n_external",
         "103.0",
         "62.349514563106794",
         "214.71776773051127",
         "2.0",
         "3.0",
         "5.0",
         "20.0",
         "1946.0"
        ],
        [
         "n_internal",
         "103.0",
         "8.233009708737864",
         "32.70971669615991",
         "0.0",
         "0.0",
         "0.0",
         "2.0",
         "300.0"
        ],
        [
         "total_value_eth",
         "103.0",
         "881.171492703742",
         "5238.987967127128",
         "0.0",
         "0.02085246",
         "0.0334585729",
         "1.842859537502517",
         "44581.796010941835"
        ],
        [
         "avg_gas",
         "103.0",
         "156241.38393917642",
         "142772.85851909049",
         "49102.4",
         "91256.0",
         "114674.66666666667",
         "134376.46206581354",
         "1037290.4285714285"
        ],
        [
         "total_gas_used",
         "103.0",
         "12464015.04854369",
         "66448768.86660946",
         "156931.0",
         "266363.0",
         "437785.0",
         "2061207.0",
         "656379467.0"
        ],
        [
         "last_tx_days_ago",
         "103.0",
         "1385.5922330097087",
         "548.1443819546947",
         "3.0",
         "1303.5",
         "1680.0",
         "1716.0",
         "2197.0"
        ]
       ],
       "shape": {
        "columns": 8,
        "rows": 8
       }
      },
      "text/html": [
       "<div>\n",
       "<style scoped>\n",
       "    .dataframe tbody tr th:only-of-type {\n",
       "        vertical-align: middle;\n",
       "    }\n",
       "\n",
       "    .dataframe tbody tr th {\n",
       "        vertical-align: top;\n",
       "    }\n",
       "\n",
       "    .dataframe thead th {\n",
       "        text-align: right;\n",
       "    }\n",
       "</style>\n",
       "<table border=\"1\" class=\"dataframe\">\n",
       "  <thead>\n",
       "    <tr style=\"text-align: right;\">\n",
       "      <th></th>\n",
       "      <th>count</th>\n",
       "      <th>mean</th>\n",
       "      <th>std</th>\n",
       "      <th>min</th>\n",
       "      <th>25%</th>\n",
       "      <th>50%</th>\n",
       "      <th>75%</th>\n",
       "      <th>max</th>\n",
       "    </tr>\n",
       "  </thead>\n",
       "  <tbody>\n",
       "    <tr>\n",
       "      <th>days_active</th>\n",
       "      <td>103.0</td>\n",
       "      <td>4.595922e+02</td>\n",
       "      <td>7.205122e+02</td>\n",
       "      <td>0.0</td>\n",
       "      <td>0.000000</td>\n",
       "      <td>49.000000</td>\n",
       "      <td>6.630000e+02</td>\n",
       "      <td>2.862000e+03</td>\n",
       "    </tr>\n",
       "    <tr>\n",
       "      <th>n_txs</th>\n",
       "      <td>103.0</td>\n",
       "      <td>7.058252e+01</td>\n",
       "      <td>2.459461e+02</td>\n",
       "      <td>2.0</td>\n",
       "      <td>4.000000</td>\n",
       "      <td>6.000000</td>\n",
       "      <td>2.350000e+01</td>\n",
       "      <td>2.246000e+03</td>\n",
       "    </tr>\n",
       "    <tr>\n",
       "      <th>n_external</th>\n",
       "      <td>103.0</td>\n",
       "      <td>6.234951e+01</td>\n",
       "      <td>2.147178e+02</td>\n",
       "      <td>2.0</td>\n",
       "      <td>3.000000</td>\n",
       "      <td>5.000000</td>\n",
       "      <td>2.000000e+01</td>\n",
       "      <td>1.946000e+03</td>\n",
       "    </tr>\n",
       "    <tr>\n",
       "      <th>n_internal</th>\n",
       "      <td>103.0</td>\n",
       "      <td>8.233010e+00</td>\n",
       "      <td>3.270972e+01</td>\n",
       "      <td>0.0</td>\n",
       "      <td>0.000000</td>\n",
       "      <td>0.000000</td>\n",
       "      <td>2.000000e+00</td>\n",
       "      <td>3.000000e+02</td>\n",
       "    </tr>\n",
       "    <tr>\n",
       "      <th>total_value_eth</th>\n",
       "      <td>103.0</td>\n",
       "      <td>8.811715e+02</td>\n",
       "      <td>5.238988e+03</td>\n",
       "      <td>0.0</td>\n",
       "      <td>0.020852</td>\n",
       "      <td>0.033459</td>\n",
       "      <td>1.842860e+00</td>\n",
       "      <td>4.458180e+04</td>\n",
       "    </tr>\n",
       "    <tr>\n",
       "      <th>avg_gas</th>\n",
       "      <td>103.0</td>\n",
       "      <td>1.562414e+05</td>\n",
       "      <td>1.427729e+05</td>\n",
       "      <td>49102.4</td>\n",
       "      <td>91256.000000</td>\n",
       "      <td>114674.666667</td>\n",
       "      <td>1.343765e+05</td>\n",
       "      <td>1.037290e+06</td>\n",
       "    </tr>\n",
       "    <tr>\n",
       "      <th>total_gas_used</th>\n",
       "      <td>103.0</td>\n",
       "      <td>1.246402e+07</td>\n",
       "      <td>6.644877e+07</td>\n",
       "      <td>156931.0</td>\n",
       "      <td>266363.000000</td>\n",
       "      <td>437785.000000</td>\n",
       "      <td>2.061207e+06</td>\n",
       "      <td>6.563795e+08</td>\n",
       "    </tr>\n",
       "    <tr>\n",
       "      <th>last_tx_days_ago</th>\n",
       "      <td>103.0</td>\n",
       "      <td>1.385592e+03</td>\n",
       "      <td>5.481444e+02</td>\n",
       "      <td>3.0</td>\n",
       "      <td>1303.500000</td>\n",
       "      <td>1680.000000</td>\n",
       "      <td>1.716000e+03</td>\n",
       "      <td>2.197000e+03</td>\n",
       "    </tr>\n",
       "  </tbody>\n",
       "</table>\n",
       "</div>"
      ],
      "text/plain": [
       "                  count          mean           std       min            25%  \\\n",
       "days_active       103.0  4.595922e+02  7.205122e+02       0.0       0.000000   \n",
       "n_txs             103.0  7.058252e+01  2.459461e+02       2.0       4.000000   \n",
       "n_external        103.0  6.234951e+01  2.147178e+02       2.0       3.000000   \n",
       "n_internal        103.0  8.233010e+00  3.270972e+01       0.0       0.000000   \n",
       "total_value_eth   103.0  8.811715e+02  5.238988e+03       0.0       0.020852   \n",
       "avg_gas           103.0  1.562414e+05  1.427729e+05   49102.4   91256.000000   \n",
       "total_gas_used    103.0  1.246402e+07  6.644877e+07  156931.0  266363.000000   \n",
       "last_tx_days_ago  103.0  1.385592e+03  5.481444e+02       3.0    1303.500000   \n",
       "\n",
       "                            50%           75%           max  \n",
       "days_active           49.000000  6.630000e+02  2.862000e+03  \n",
       "n_txs                  6.000000  2.350000e+01  2.246000e+03  \n",
       "n_external             5.000000  2.000000e+01  1.946000e+03  \n",
       "n_internal             0.000000  2.000000e+00  3.000000e+02  \n",
       "total_value_eth        0.033459  1.842860e+00  4.458180e+04  \n",
       "avg_gas           114674.666667  1.343765e+05  1.037290e+06  \n",
       "total_gas_used    437785.000000  2.061207e+06  6.563795e+08  \n",
       "last_tx_days_ago    1680.000000  1.716000e+03  2.197000e+03  "
      ]
     },
     "execution_count": 11,
     "metadata": {},
     "output_type": "execute_result"
    }
   ],
   "source": [
    "wallet_feats.describe().T"
   ]
  },
  {
   "cell_type": "code",
   "execution_count": 12,
   "id": "48edf5e8",
   "metadata": {},
   "outputs": [],
   "source": [
    "from sklearn.preprocessing import MinMaxScaler\n",
    "scaler = MinMaxScaler()\n",
    "cols = ['days_active', 'n_txs', 'total_value_eth', 'total_gas_used', 'last_tx_days_ago']\n",
    "features_scaled = scaler.fit_transform(wallet_feats[cols])\n",
    "scaled_df = pd.DataFrame(features_scaled, columns=[f\"{c}_norm\" for c in cols])\n",
    "features = pd.concat([wallet_feats, scaled_df], axis=1)"
   ]
  },
  {
   "cell_type": "code",
   "execution_count": 13,
   "id": "1c11685e",
   "metadata": {},
   "outputs": [
    {
     "data": {
      "application/vnd.microsoft.datawrangler.viewer.v0+json": {
       "columns": [
        {
         "name": "index",
         "rawType": "int64",
         "type": "integer"
        },
        {
         "name": "wallet_id",
         "rawType": "object",
         "type": "string"
        },
        {
         "name": "days_active",
         "rawType": "int64",
         "type": "integer"
        },
        {
         "name": "n_txs",
         "rawType": "int64",
         "type": "integer"
        },
        {
         "name": "n_external",
         "rawType": "int64",
         "type": "integer"
        },
        {
         "name": "n_internal",
         "rawType": "int64",
         "type": "integer"
        },
        {
         "name": "total_value_eth",
         "rawType": "float64",
         "type": "float"
        },
        {
         "name": "avg_gas",
         "rawType": "float64",
         "type": "float"
        },
        {
         "name": "total_gas_used",
         "rawType": "int64",
         "type": "integer"
        },
        {
         "name": "last_tx_days_ago",
         "rawType": "int64",
         "type": "integer"
        },
        {
         "name": "days_active_norm",
         "rawType": "float64",
         "type": "float"
        },
        {
         "name": "n_txs_norm",
         "rawType": "float64",
         "type": "float"
        },
        {
         "name": "total_value_eth_norm",
         "rawType": "float64",
         "type": "float"
        },
        {
         "name": "total_gas_used_norm",
         "rawType": "float64",
         "type": "float"
        },
        {
         "name": "last_tx_days_ago_norm",
         "rawType": "float64",
         "type": "float"
        }
       ],
       "ref": "0cd0f917-8362-44f7-9208-cac9e473078e",
       "rows": [
        [
         "0",
         "0x0039f22efb07a647557c7c5d17854cfd6d489ef3",
         "2513",
         "2246",
         "1946",
         "300",
         "14876.959377166579",
         "438803.196794301",
         "656379467",
         "498",
         "0.8780573025856044",
         "0.9999999999999999",
         "0.3337003151132647",
         "1.0",
         "0.22561531449407474"
        ],
        [
         "1",
         "0x06b51c6882b27cb05e712185531c1f74996dd988",
         "0",
         "4",
         "4",
         "0",
         "0.02430185",
         "91256.0",
         "266363",
         "1743",
         "0.0",
         "0.00089126559714795",
         "5.451070206780258e-07",
         "0.0001667605027206807",
         "0.7930720145852324"
        ],
        [
         "2",
         "0x0795732aacc448030ef374374eaae57d2965c16c",
         "0",
         "3",
         "3",
         "0",
         "0.0186",
         "114674.66666666667",
         "248424",
         "1702",
         "0.0",
         "0.000445632798573975",
         "4.1721064793878984e-07",
         "0.00013942373963212994",
         "0.7743846855059252"
        ],
        [
         "3",
         "0x0aaa79f1a86bc8136cd0d1ca0d51964f4e3766f9",
         "1879",
         "28",
         "24",
         "4",
         "270.3129814490397",
         "131456.10714285713",
         "2433893",
         "309",
         "0.6565338923829489",
         "0.011586452762923352",
         "0.006063303985839781",
         "0.003469801591818541",
         "0.13947128532360983"
        ],
        [
         "4",
         "0x0fe383e5abc200055a7f391f94a5f5d1f844b9ae",
         "63",
         "4",
         "4",
         "0",
         "0.026004690999999996",
         "91256.0",
         "266363",
         "1673",
         "0.0220125786163522",
         "0.00089126559714795",
         "5.833029022343019e-07",
         "0.0001667605027206807",
         "0.7611668185961713"
        ]
       ],
       "shape": {
        "columns": 14,
        "rows": 5
       }
      },
      "text/html": [
       "<div>\n",
       "<style scoped>\n",
       "    .dataframe tbody tr th:only-of-type {\n",
       "        vertical-align: middle;\n",
       "    }\n",
       "\n",
       "    .dataframe tbody tr th {\n",
       "        vertical-align: top;\n",
       "    }\n",
       "\n",
       "    .dataframe thead th {\n",
       "        text-align: right;\n",
       "    }\n",
       "</style>\n",
       "<table border=\"1\" class=\"dataframe\">\n",
       "  <thead>\n",
       "    <tr style=\"text-align: right;\">\n",
       "      <th></th>\n",
       "      <th>wallet_id</th>\n",
       "      <th>days_active</th>\n",
       "      <th>n_txs</th>\n",
       "      <th>n_external</th>\n",
       "      <th>n_internal</th>\n",
       "      <th>total_value_eth</th>\n",
       "      <th>avg_gas</th>\n",
       "      <th>total_gas_used</th>\n",
       "      <th>last_tx_days_ago</th>\n",
       "      <th>days_active_norm</th>\n",
       "      <th>n_txs_norm</th>\n",
       "      <th>total_value_eth_norm</th>\n",
       "      <th>total_gas_used_norm</th>\n",
       "      <th>last_tx_days_ago_norm</th>\n",
       "    </tr>\n",
       "  </thead>\n",
       "  <tbody>\n",
       "    <tr>\n",
       "      <th>0</th>\n",
       "      <td>0x0039f22efb07a647557c7c5d17854cfd6d489ef3</td>\n",
       "      <td>2513</td>\n",
       "      <td>2246</td>\n",
       "      <td>1946</td>\n",
       "      <td>300</td>\n",
       "      <td>14876.959377</td>\n",
       "      <td>438803.196794</td>\n",
       "      <td>656379467</td>\n",
       "      <td>498</td>\n",
       "      <td>0.878057</td>\n",
       "      <td>1.000000</td>\n",
       "      <td>3.337003e-01</td>\n",
       "      <td>1.000000</td>\n",
       "      <td>0.225615</td>\n",
       "    </tr>\n",
       "    <tr>\n",
       "      <th>1</th>\n",
       "      <td>0x06b51c6882b27cb05e712185531c1f74996dd988</td>\n",
       "      <td>0</td>\n",
       "      <td>4</td>\n",
       "      <td>4</td>\n",
       "      <td>0</td>\n",
       "      <td>0.024302</td>\n",
       "      <td>91256.000000</td>\n",
       "      <td>266363</td>\n",
       "      <td>1743</td>\n",
       "      <td>0.000000</td>\n",
       "      <td>0.000891</td>\n",
       "      <td>5.451070e-07</td>\n",
       "      <td>0.000167</td>\n",
       "      <td>0.793072</td>\n",
       "    </tr>\n",
       "    <tr>\n",
       "      <th>2</th>\n",
       "      <td>0x0795732aacc448030ef374374eaae57d2965c16c</td>\n",
       "      <td>0</td>\n",
       "      <td>3</td>\n",
       "      <td>3</td>\n",
       "      <td>0</td>\n",
       "      <td>0.018600</td>\n",
       "      <td>114674.666667</td>\n",
       "      <td>248424</td>\n",
       "      <td>1702</td>\n",
       "      <td>0.000000</td>\n",
       "      <td>0.000446</td>\n",
       "      <td>4.172106e-07</td>\n",
       "      <td>0.000139</td>\n",
       "      <td>0.774385</td>\n",
       "    </tr>\n",
       "    <tr>\n",
       "      <th>3</th>\n",
       "      <td>0x0aaa79f1a86bc8136cd0d1ca0d51964f4e3766f9</td>\n",
       "      <td>1879</td>\n",
       "      <td>28</td>\n",
       "      <td>24</td>\n",
       "      <td>4</td>\n",
       "      <td>270.312981</td>\n",
       "      <td>131456.107143</td>\n",
       "      <td>2433893</td>\n",
       "      <td>309</td>\n",
       "      <td>0.656534</td>\n",
       "      <td>0.011586</td>\n",
       "      <td>6.063304e-03</td>\n",
       "      <td>0.003470</td>\n",
       "      <td>0.139471</td>\n",
       "    </tr>\n",
       "    <tr>\n",
       "      <th>4</th>\n",
       "      <td>0x0fe383e5abc200055a7f391f94a5f5d1f844b9ae</td>\n",
       "      <td>63</td>\n",
       "      <td>4</td>\n",
       "      <td>4</td>\n",
       "      <td>0</td>\n",
       "      <td>0.026005</td>\n",
       "      <td>91256.000000</td>\n",
       "      <td>266363</td>\n",
       "      <td>1673</td>\n",
       "      <td>0.022013</td>\n",
       "      <td>0.000891</td>\n",
       "      <td>5.833029e-07</td>\n",
       "      <td>0.000167</td>\n",
       "      <td>0.761167</td>\n",
       "    </tr>\n",
       "  </tbody>\n",
       "</table>\n",
       "</div>"
      ],
      "text/plain": [
       "                                    wallet_id  days_active  n_txs  n_external  \\\n",
       "0  0x0039f22efb07a647557c7c5d17854cfd6d489ef3         2513   2246        1946   \n",
       "1  0x06b51c6882b27cb05e712185531c1f74996dd988            0      4           4   \n",
       "2  0x0795732aacc448030ef374374eaae57d2965c16c            0      3           3   \n",
       "3  0x0aaa79f1a86bc8136cd0d1ca0d51964f4e3766f9         1879     28          24   \n",
       "4  0x0fe383e5abc200055a7f391f94a5f5d1f844b9ae           63      4           4   \n",
       "\n",
       "   n_internal  total_value_eth        avg_gas  total_gas_used  \\\n",
       "0         300     14876.959377  438803.196794       656379467   \n",
       "1           0         0.024302   91256.000000          266363   \n",
       "2           0         0.018600  114674.666667          248424   \n",
       "3           4       270.312981  131456.107143         2433893   \n",
       "4           0         0.026005   91256.000000          266363   \n",
       "\n",
       "   last_tx_days_ago  days_active_norm  n_txs_norm  total_value_eth_norm  \\\n",
       "0               498          0.878057    1.000000          3.337003e-01   \n",
       "1              1743          0.000000    0.000891          5.451070e-07   \n",
       "2              1702          0.000000    0.000446          4.172106e-07   \n",
       "3               309          0.656534    0.011586          6.063304e-03   \n",
       "4              1673          0.022013    0.000891          5.833029e-07   \n",
       "\n",
       "   total_gas_used_norm  last_tx_days_ago_norm  \n",
       "0             1.000000               0.225615  \n",
       "1             0.000167               0.793072  \n",
       "2             0.000139               0.774385  \n",
       "3             0.003470               0.139471  \n",
       "4             0.000167               0.761167  "
      ]
     },
     "execution_count": 13,
     "metadata": {},
     "output_type": "execute_result"
    }
   ],
   "source": [
    "features.head()"
   ]
  },
  {
   "cell_type": "code",
   "execution_count": 14,
   "id": "94b14145",
   "metadata": {},
   "outputs": [],
   "source": [
    "def compute_score(row):\n",
    "    score = (\n",
    "        (1 - row['days_active_norm']) * 0.2 +\n",
    "        row['n_txs_norm'] * 0.2 +\n",
    "        row['total_value_eth_norm'] * 0.25 +\n",
    "        row['total_gas_used_norm'] * 0.15 +\n",
    "        row['last_tx_days_ago_norm'] * 0.2\n",
    "    )\n",
    "    return int(score * 1000)"
   ]
  },
  {
   "cell_type": "code",
   "execution_count": 15,
   "id": "4a5bbcc2",
   "metadata": {},
   "outputs": [],
   "source": [
    "features['score'] = features.apply(compute_score, axis=1)"
   ]
  },
  {
   "cell_type": "code",
   "execution_count": 16,
   "id": "c9c56566",
   "metadata": {},
   "outputs": [
    {
     "data": {
      "application/vnd.microsoft.datawrangler.viewer.v0+json": {
       "columns": [
        {
         "name": "index",
         "rawType": "int64",
         "type": "integer"
        },
        {
         "name": "wallet_id",
         "rawType": "object",
         "type": "string"
        },
        {
         "name": "days_active",
         "rawType": "int64",
         "type": "integer"
        },
        {
         "name": "n_txs",
         "rawType": "int64",
         "type": "integer"
        },
        {
         "name": "n_external",
         "rawType": "int64",
         "type": "integer"
        },
        {
         "name": "n_internal",
         "rawType": "int64",
         "type": "integer"
        },
        {
         "name": "total_value_eth",
         "rawType": "float64",
         "type": "float"
        },
        {
         "name": "avg_gas",
         "rawType": "float64",
         "type": "float"
        },
        {
         "name": "total_gas_used",
         "rawType": "int64",
         "type": "integer"
        },
        {
         "name": "last_tx_days_ago",
         "rawType": "int64",
         "type": "integer"
        },
        {
         "name": "days_active_norm",
         "rawType": "float64",
         "type": "float"
        },
        {
         "name": "n_txs_norm",
         "rawType": "float64",
         "type": "float"
        },
        {
         "name": "total_value_eth_norm",
         "rawType": "float64",
         "type": "float"
        },
        {
         "name": "total_gas_used_norm",
         "rawType": "float64",
         "type": "float"
        },
        {
         "name": "last_tx_days_ago_norm",
         "rawType": "float64",
         "type": "float"
        },
        {
         "name": "score",
         "rawType": "int64",
         "type": "integer"
        }
       ],
       "ref": "66dd06bb-d765-49a4-af8b-95464bffc692",
       "rows": [
        [
         "0",
         "0x0039f22efb07a647557c7c5d17854cfd6d489ef3",
         "2513",
         "2246",
         "1946",
         "300",
         "14876.959377166579",
         "438803.196794301",
         "656379467",
         "498",
         "0.8780573025856044",
         "0.9999999999999999",
         "0.3337003151132647",
         "1.0",
         "0.22561531449407474",
         "502"
        ],
        [
         "1",
         "0x06b51c6882b27cb05e712185531c1f74996dd988",
         "0",
         "4",
         "4",
         "0",
         "0.02430185",
         "91256.0",
         "266363",
         "1743",
         "0.0",
         "0.00089126559714795",
         "5.451070206780258e-07",
         "0.0001667605027206807",
         "0.7930720145852324",
         "358"
        ],
        [
         "2",
         "0x0795732aacc448030ef374374eaae57d2965c16c",
         "0",
         "3",
         "3",
         "0",
         "0.0186",
         "114674.66666666667",
         "248424",
         "1702",
         "0.0",
         "0.000445632798573975",
         "4.1721064793878984e-07",
         "0.00013942373963212994",
         "0.7743846855059252",
         "354"
        ],
        [
         "3",
         "0x0aaa79f1a86bc8136cd0d1ca0d51964f4e3766f9",
         "1879",
         "28",
         "24",
         "4",
         "270.3129814490397",
         "131456.10714285713",
         "2433893",
         "309",
         "0.6565338923829489",
         "0.011586452762923352",
         "0.006063303985839781",
         "0.003469801591818541",
         "0.13947128532360983",
         "100"
        ],
        [
         "4",
         "0x0fe383e5abc200055a7f391f94a5f5d1f844b9ae",
         "63",
         "4",
         "4",
         "0",
         "0.026004690999999996",
         "91256.0",
         "266363",
         "1673",
         "0.0220125786163522",
         "0.00089126559714795",
         "5.833029022343019e-07",
         "0.0001667605027206807",
         "0.7611668185961713",
         "348"
        ]
       ],
       "shape": {
        "columns": 15,
        "rows": 5
       }
      },
      "text/html": [
       "<div>\n",
       "<style scoped>\n",
       "    .dataframe tbody tr th:only-of-type {\n",
       "        vertical-align: middle;\n",
       "    }\n",
       "\n",
       "    .dataframe tbody tr th {\n",
       "        vertical-align: top;\n",
       "    }\n",
       "\n",
       "    .dataframe thead th {\n",
       "        text-align: right;\n",
       "    }\n",
       "</style>\n",
       "<table border=\"1\" class=\"dataframe\">\n",
       "  <thead>\n",
       "    <tr style=\"text-align: right;\">\n",
       "      <th></th>\n",
       "      <th>wallet_id</th>\n",
       "      <th>days_active</th>\n",
       "      <th>n_txs</th>\n",
       "      <th>n_external</th>\n",
       "      <th>n_internal</th>\n",
       "      <th>total_value_eth</th>\n",
       "      <th>avg_gas</th>\n",
       "      <th>total_gas_used</th>\n",
       "      <th>last_tx_days_ago</th>\n",
       "      <th>days_active_norm</th>\n",
       "      <th>n_txs_norm</th>\n",
       "      <th>total_value_eth_norm</th>\n",
       "      <th>total_gas_used_norm</th>\n",
       "      <th>last_tx_days_ago_norm</th>\n",
       "      <th>score</th>\n",
       "    </tr>\n",
       "  </thead>\n",
       "  <tbody>\n",
       "    <tr>\n",
       "      <th>0</th>\n",
       "      <td>0x0039f22efb07a647557c7c5d17854cfd6d489ef3</td>\n",
       "      <td>2513</td>\n",
       "      <td>2246</td>\n",
       "      <td>1946</td>\n",
       "      <td>300</td>\n",
       "      <td>14876.959377</td>\n",
       "      <td>438803.196794</td>\n",
       "      <td>656379467</td>\n",
       "      <td>498</td>\n",
       "      <td>0.878057</td>\n",
       "      <td>1.000000</td>\n",
       "      <td>3.337003e-01</td>\n",
       "      <td>1.000000</td>\n",
       "      <td>0.225615</td>\n",
       "      <td>502</td>\n",
       "    </tr>\n",
       "    <tr>\n",
       "      <th>1</th>\n",
       "      <td>0x06b51c6882b27cb05e712185531c1f74996dd988</td>\n",
       "      <td>0</td>\n",
       "      <td>4</td>\n",
       "      <td>4</td>\n",
       "      <td>0</td>\n",
       "      <td>0.024302</td>\n",
       "      <td>91256.000000</td>\n",
       "      <td>266363</td>\n",
       "      <td>1743</td>\n",
       "      <td>0.000000</td>\n",
       "      <td>0.000891</td>\n",
       "      <td>5.451070e-07</td>\n",
       "      <td>0.000167</td>\n",
       "      <td>0.793072</td>\n",
       "      <td>358</td>\n",
       "    </tr>\n",
       "    <tr>\n",
       "      <th>2</th>\n",
       "      <td>0x0795732aacc448030ef374374eaae57d2965c16c</td>\n",
       "      <td>0</td>\n",
       "      <td>3</td>\n",
       "      <td>3</td>\n",
       "      <td>0</td>\n",
       "      <td>0.018600</td>\n",
       "      <td>114674.666667</td>\n",
       "      <td>248424</td>\n",
       "      <td>1702</td>\n",
       "      <td>0.000000</td>\n",
       "      <td>0.000446</td>\n",
       "      <td>4.172106e-07</td>\n",
       "      <td>0.000139</td>\n",
       "      <td>0.774385</td>\n",
       "      <td>354</td>\n",
       "    </tr>\n",
       "    <tr>\n",
       "      <th>3</th>\n",
       "      <td>0x0aaa79f1a86bc8136cd0d1ca0d51964f4e3766f9</td>\n",
       "      <td>1879</td>\n",
       "      <td>28</td>\n",
       "      <td>24</td>\n",
       "      <td>4</td>\n",
       "      <td>270.312981</td>\n",
       "      <td>131456.107143</td>\n",
       "      <td>2433893</td>\n",
       "      <td>309</td>\n",
       "      <td>0.656534</td>\n",
       "      <td>0.011586</td>\n",
       "      <td>6.063304e-03</td>\n",
       "      <td>0.003470</td>\n",
       "      <td>0.139471</td>\n",
       "      <td>100</td>\n",
       "    </tr>\n",
       "    <tr>\n",
       "      <th>4</th>\n",
       "      <td>0x0fe383e5abc200055a7f391f94a5f5d1f844b9ae</td>\n",
       "      <td>63</td>\n",
       "      <td>4</td>\n",
       "      <td>4</td>\n",
       "      <td>0</td>\n",
       "      <td>0.026005</td>\n",
       "      <td>91256.000000</td>\n",
       "      <td>266363</td>\n",
       "      <td>1673</td>\n",
       "      <td>0.022013</td>\n",
       "      <td>0.000891</td>\n",
       "      <td>5.833029e-07</td>\n",
       "      <td>0.000167</td>\n",
       "      <td>0.761167</td>\n",
       "      <td>348</td>\n",
       "    </tr>\n",
       "  </tbody>\n",
       "</table>\n",
       "</div>"
      ],
      "text/plain": [
       "                                    wallet_id  days_active  n_txs  n_external  \\\n",
       "0  0x0039f22efb07a647557c7c5d17854cfd6d489ef3         2513   2246        1946   \n",
       "1  0x06b51c6882b27cb05e712185531c1f74996dd988            0      4           4   \n",
       "2  0x0795732aacc448030ef374374eaae57d2965c16c            0      3           3   \n",
       "3  0x0aaa79f1a86bc8136cd0d1ca0d51964f4e3766f9         1879     28          24   \n",
       "4  0x0fe383e5abc200055a7f391f94a5f5d1f844b9ae           63      4           4   \n",
       "\n",
       "   n_internal  total_value_eth        avg_gas  total_gas_used  \\\n",
       "0         300     14876.959377  438803.196794       656379467   \n",
       "1           0         0.024302   91256.000000          266363   \n",
       "2           0         0.018600  114674.666667          248424   \n",
       "3           4       270.312981  131456.107143         2433893   \n",
       "4           0         0.026005   91256.000000          266363   \n",
       "\n",
       "   last_tx_days_ago  days_active_norm  n_txs_norm  total_value_eth_norm  \\\n",
       "0               498          0.878057    1.000000          3.337003e-01   \n",
       "1              1743          0.000000    0.000891          5.451070e-07   \n",
       "2              1702          0.000000    0.000446          4.172106e-07   \n",
       "3               309          0.656534    0.011586          6.063304e-03   \n",
       "4              1673          0.022013    0.000891          5.833029e-07   \n",
       "\n",
       "   total_gas_used_norm  last_tx_days_ago_norm  score  \n",
       "0             1.000000               0.225615    502  \n",
       "1             0.000167               0.793072    358  \n",
       "2             0.000139               0.774385    354  \n",
       "3             0.003470               0.139471    100  \n",
       "4             0.000167               0.761167    348  "
      ]
     },
     "execution_count": 16,
     "metadata": {},
     "output_type": "execute_result"
    }
   ],
   "source": [
    "output_file = r'C:\\Users\\kevin\\Desktop\\VSCode\\Zeru\\task_2\\output'\n",
    "features[['wallet_id', 'score']].to_csv(os.path.join(output_file, \"wallet_risk_scores.csv\"), index=False)\n",
    "features.head()"
   ]
  }
 ],
 "metadata": {
  "kernelspec": {
   "display_name": "Python 3",
   "language": "python",
   "name": "python3"
  },
  "language_info": {
   "codemirror_mode": {
    "name": "ipython",
    "version": 3
   },
   "file_extension": ".py",
   "mimetype": "text/x-python",
   "name": "python",
   "nbconvert_exporter": "python",
   "pygments_lexer": "ipython3",
   "version": "3.12.1"
  }
 },
 "nbformat": 4,
 "nbformat_minor": 5
}
