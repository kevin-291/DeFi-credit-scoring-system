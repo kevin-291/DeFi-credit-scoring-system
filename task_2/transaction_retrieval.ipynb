{
 "cells": [
  {
   "cell_type": "code",
   "execution_count": 1,
   "id": "13cf5f05",
   "metadata": {},
   "outputs": [],
   "source": [
    "# Imports & config\n",
    "import os\n",
    "import requests\n",
    "import pandas as pd\n",
    "from dotenv import load_dotenv\n",
    "\n",
    "load_dotenv()\n",
    "ETHERSCAN_API_KEY = os.getenv(\"ETHERSCAN_API_KEY\")\n",
    "BASE_URL = \"https://api.etherscan.io/v2/api\"\n"
   ]
  },
  {
   "cell_type": "code",
   "execution_count": 2,
   "id": "c0d308ce",
   "metadata": {},
   "outputs": [],
   "source": [
    "def fetch_txs(address, action, page=1, offset=10000):\n",
    "    params = {\n",
    "        \"chainid\": 1,\n",
    "        \"module\": \"account\",\n",
    "        \"action\": action,\n",
    "        \"address\": address,\n",
    "        \"startblock\": 0,\n",
    "        \"endblock\": 99999999,\n",
    "        \"page\": page,\n",
    "        \"offset\": offset,\n",
    "        \"sort\": \"asc\",\n",
    "        \"apikey\": ETHERSCAN_API_KEY\n",
    "    }\n",
    "    r = requests.get(BASE_URL, params=params)\n",
    "    r.raise_for_status()\n",
    "    resp = r.json()\n",
    "    return resp.get(\"result\", []) if resp.get(\"status\") == \"1\" else []\n",
    "\n",
    "def fetch_all(address, action):\n",
    "    page = 1\n",
    "    txs = []\n",
    "    while True:\n",
    "        batch = fetch_txs(address, action, page=page)\n",
    "        if not batch:\n",
    "            break\n",
    "        txs.extend(batch)\n",
    "        if len(batch) < 10000:\n",
    "            break\n",
    "        page += 1\n",
    "    return txs\n"
   ]
  },
  {
   "cell_type": "code",
   "execution_count": null,
   "id": "92976523",
   "metadata": {},
   "outputs": [
    {
     "data": {
      "application/vnd.microsoft.datawrangler.viewer.v0+json": {
       "columns": [
        {
         "name": "index",
         "rawType": "int64",
         "type": "integer"
        },
        {
         "name": "wallet_id",
         "rawType": "object",
         "type": "string"
        }
       ],
       "ref": "a4185cd3-fa94-4c4a-b9bd-71a90883edfa",
       "rows": [
        [
         "0",
         "0x0039f22efb07a647557c7c5d17854cfd6d489ef3"
        ],
        [
         "1",
         "0x06b51c6882b27cb05e712185531c1f74996dd988"
        ],
        [
         "2",
         "0x0795732aacc448030ef374374eaae57d2965c16c"
        ],
        [
         "3",
         "0x0aaa79f1a86bc8136cd0d1ca0d51964f4e3766f9"
        ],
        [
         "4",
         "0x0fe383e5abc200055a7f391f94a5f5d1f844b9ae"
        ]
       ],
       "shape": {
        "columns": 1,
        "rows": 5
       }
      },
      "text/html": [
       "<div>\n",
       "<style scoped>\n",
       "    .dataframe tbody tr th:only-of-type {\n",
       "        vertical-align: middle;\n",
       "    }\n",
       "\n",
       "    .dataframe tbody tr th {\n",
       "        vertical-align: top;\n",
       "    }\n",
       "\n",
       "    .dataframe thead th {\n",
       "        text-align: right;\n",
       "    }\n",
       "</style>\n",
       "<table border=\"1\" class=\"dataframe\">\n",
       "  <thead>\n",
       "    <tr style=\"text-align: right;\">\n",
       "      <th></th>\n",
       "      <th>wallet_id</th>\n",
       "    </tr>\n",
       "  </thead>\n",
       "  <tbody>\n",
       "    <tr>\n",
       "      <th>0</th>\n",
       "      <td>0x0039f22efb07a647557c7c5d17854cfd6d489ef3</td>\n",
       "    </tr>\n",
       "    <tr>\n",
       "      <th>1</th>\n",
       "      <td>0x06b51c6882b27cb05e712185531c1f74996dd988</td>\n",
       "    </tr>\n",
       "    <tr>\n",
       "      <th>2</th>\n",
       "      <td>0x0795732aacc448030ef374374eaae57d2965c16c</td>\n",
       "    </tr>\n",
       "    <tr>\n",
       "      <th>3</th>\n",
       "      <td>0x0aaa79f1a86bc8136cd0d1ca0d51964f4e3766f9</td>\n",
       "    </tr>\n",
       "    <tr>\n",
       "      <th>4</th>\n",
       "      <td>0x0fe383e5abc200055a7f391f94a5f5d1f844b9ae</td>\n",
       "    </tr>\n",
       "  </tbody>\n",
       "</table>\n",
       "</div>"
      ],
      "text/plain": [
       "                                    wallet_id\n",
       "0  0x0039f22efb07a647557c7c5d17854cfd6d489ef3\n",
       "1  0x06b51c6882b27cb05e712185531c1f74996dd988\n",
       "2  0x0795732aacc448030ef374374eaae57d2965c16c\n",
       "3  0x0aaa79f1a86bc8136cd0d1ca0d51964f4e3766f9\n",
       "4  0x0fe383e5abc200055a7f391f94a5f5d1f844b9ae"
      ]
     },
     "execution_count": 3,
     "metadata": {},
     "output_type": "execute_result"
    }
   ],
   "source": [
    "wallet_df = pd.read_csv(r\"C:\\Users\\kevin\\Desktop\\VSCode\\Zeru\\task_2\\Wallet id.csv\")\n",
    "wallet_df.head()"
   ]
  },
  {
   "cell_type": "code",
   "execution_count": 4,
   "id": "ca83aed5",
   "metadata": {},
   "outputs": [
    {
     "name": "stdout",
     "output_type": "stream",
     "text": [
      "<class 'pandas.core.frame.DataFrame'>\n",
      "RangeIndex: 103 entries, 0 to 102\n",
      "Data columns (total 1 columns):\n",
      " #   Column     Non-Null Count  Dtype \n",
      "---  ------     --------------  ----- \n",
      " 0   wallet_id  103 non-null    object\n",
      "dtypes: object(1)\n",
      "memory usage: 956.0+ bytes\n"
     ]
    }
   ],
   "source": [
    "wallet_df.info()"
   ]
  },
  {
   "cell_type": "code",
   "execution_count": 5,
   "id": "d6c9befe",
   "metadata": {},
   "outputs": [
    {
     "data": {
      "application/vnd.microsoft.datawrangler.viewer.v0+json": {
       "columns": [
        {
         "name": "index",
         "rawType": "object",
         "type": "string"
        },
        {
         "name": "0",
         "rawType": "int64",
         "type": "integer"
        }
       ],
       "ref": "37375b93-ae0b-4f67-a508-510b3bcdda62",
       "rows": [
        [
         "wallet_id",
         "0"
        ]
       ],
       "shape": {
        "columns": 1,
        "rows": 1
       }
      },
      "text/plain": [
       "wallet_id    0\n",
       "dtype: int64"
      ]
     },
     "execution_count": 5,
     "metadata": {},
     "output_type": "execute_result"
    }
   ],
   "source": [
    "wallet_df.isnull().sum()"
   ]
  },
  {
   "cell_type": "code",
   "execution_count": 6,
   "id": "5678f006",
   "metadata": {},
   "outputs": [
    {
     "data": {
      "text/plain": [
       "0"
      ]
     },
     "execution_count": 6,
     "metadata": {},
     "output_type": "execute_result"
    }
   ],
   "source": [
    "wallet_df.duplicated().sum()"
   ]
  },
  {
   "cell_type": "code",
   "execution_count": 7,
   "id": "1e35a693",
   "metadata": {},
   "outputs": [],
   "source": [
    "wallets = wallet_df[\"wallet_id\"].tolist()\n",
    "combined_rows = []\n",
    "\n",
    "for w in wallets:\n",
    "    for action, label in [(\"txlist\", \"external\"), (\"txlistinternal\", \"internal\")]:\n",
    "        txs = fetch_all(w, action)\n",
    "        for tx in txs:\n",
    "            combined_rows.append({\n",
    "                \"wallet_id\": w,\n",
    "                \"action\": label,\n",
    "                \"timestamp\": int(tx[\"timeStamp\"]),\n",
    "                \"value\": float(tx.get(\"value\", 0)) / 1e18,\n",
    "                \"gas\": int(tx.get(\"gas\", 0)),\n",
    "                \"gasUsed\": int(tx.get(\"gasUsed\", 0))\n",
    "            })\n",
    "\n",
    "df = pd.DataFrame(combined_rows)"
   ]
  },
  {
   "cell_type": "code",
   "execution_count": null,
   "id": "6e8762d5",
   "metadata": {},
   "outputs": [],
   "source": [
    "# Save final CSV\n",
    "output_dir = r\"C:\\Users\\kevin\\Desktop\\VSCode\\Zeru\\task_2\\output\"\n",
    "os.makedirs(output_dir, exist_ok=True)\n",
    "df.to_csv(os.path.join(output_dir, \"wallet_txns_combined.csv\"), index=False)"
   ]
  }
 ],
 "metadata": {
  "kernelspec": {
   "display_name": "Python 3",
   "language": "python",
   "name": "python3"
  },
  "language_info": {
   "codemirror_mode": {
    "name": "ipython",
    "version": 3
   },
   "file_extension": ".py",
   "mimetype": "text/x-python",
   "name": "python",
   "nbconvert_exporter": "python",
   "pygments_lexer": "ipython3",
   "version": "3.12.1"
  }
 },
 "nbformat": 4,
 "nbformat_minor": 5
}
